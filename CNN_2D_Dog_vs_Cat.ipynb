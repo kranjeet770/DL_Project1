{
 "cells": [
  {
   "cell_type": "code",
   "execution_count": 1,
   "metadata": {
    "colab": {
     "base_uri": "https://localhost:8080/",
     "height": 700
    },
    "colab_type": "code",
    "id": "636KIhv1qSFL",
    "outputId": "a6d204fb-156a-4ba5-bf41-27524691e8cd"
   },
   "outputs": [
    {
     "name": "stdout",
     "output_type": "stream",
     "text": [
      "Collecting tensorflow-gpu\n",
      "\u001b[?25l  Downloading https://files.pythonhosted.org/packages/31/bf/c28971266ca854a64f4b26f07c4112ddd61f30b4d1f18108b954a746f8ea/tensorflow_gpu-2.2.0-cp36-cp36m-manylinux2010_x86_64.whl (516.2MB)\n",
      "\u001b[K     |████████████████████████████████| 516.2MB 24kB/s \n",
      "\u001b[?25hRequirement already satisfied: astunparse==1.6.3 in /usr/local/lib/python3.6/dist-packages (from tensorflow-gpu) (1.6.3)\n",
      "Requirement already satisfied: google-pasta>=0.1.8 in /usr/local/lib/python3.6/dist-packages (from tensorflow-gpu) (0.2.0)\n",
      "Requirement already satisfied: absl-py>=0.7.0 in /usr/local/lib/python3.6/dist-packages (from tensorflow-gpu) (0.9.0)\n",
      "Requirement already satisfied: six>=1.12.0 in /usr/local/lib/python3.6/dist-packages (from tensorflow-gpu) (1.12.0)\n",
      "Requirement already satisfied: h5py<2.11.0,>=2.10.0 in /usr/local/lib/python3.6/dist-packages (from tensorflow-gpu) (2.10.0)\n",
      "Requirement already satisfied: grpcio>=1.8.6 in /usr/local/lib/python3.6/dist-packages (from tensorflow-gpu) (1.28.1)\n",
      "Requirement already satisfied: tensorflow-estimator<2.3.0,>=2.2.0 in /usr/local/lib/python3.6/dist-packages (from tensorflow-gpu) (2.2.0)\n",
      "Requirement already satisfied: gast==0.3.3 in /usr/local/lib/python3.6/dist-packages (from tensorflow-gpu) (0.3.3)\n",
      "Requirement already satisfied: tensorboard<2.3.0,>=2.2.0 in /usr/local/lib/python3.6/dist-packages (from tensorflow-gpu) (2.2.1)\n",
      "Requirement already satisfied: protobuf>=3.8.0 in /usr/local/lib/python3.6/dist-packages (from tensorflow-gpu) (3.10.0)\n",
      "Requirement already satisfied: wrapt>=1.11.1 in /usr/local/lib/python3.6/dist-packages (from tensorflow-gpu) (1.12.1)\n",
      "Requirement already satisfied: termcolor>=1.1.0 in /usr/local/lib/python3.6/dist-packages (from tensorflow-gpu) (1.1.0)\n",
      "Requirement already satisfied: wheel>=0.26; python_version >= \"3\" in /usr/local/lib/python3.6/dist-packages (from tensorflow-gpu) (0.34.2)\n",
      "Requirement already satisfied: keras-preprocessing>=1.1.0 in /usr/local/lib/python3.6/dist-packages (from tensorflow-gpu) (1.1.0)\n",
      "Requirement already satisfied: opt-einsum>=2.3.2 in /usr/local/lib/python3.6/dist-packages (from tensorflow-gpu) (3.2.1)\n",
      "Requirement already satisfied: numpy<2.0,>=1.16.0 in /usr/local/lib/python3.6/dist-packages (from tensorflow-gpu) (1.18.4)\n",
      "Requirement already satisfied: scipy==1.4.1; python_version >= \"3\" in /usr/local/lib/python3.6/dist-packages (from tensorflow-gpu) (1.4.1)\n",
      "Requirement already satisfied: werkzeug>=0.11.15 in /usr/local/lib/python3.6/dist-packages (from tensorboard<2.3.0,>=2.2.0->tensorflow-gpu) (1.0.1)\n",
      "Requirement already satisfied: google-auth-oauthlib<0.5,>=0.4.1 in /usr/local/lib/python3.6/dist-packages (from tensorboard<2.3.0,>=2.2.0->tensorflow-gpu) (0.4.1)\n",
      "Requirement already satisfied: markdown>=2.6.8 in /usr/local/lib/python3.6/dist-packages (from tensorboard<2.3.0,>=2.2.0->tensorflow-gpu) (3.2.1)\n",
      "Requirement already satisfied: tensorboard-plugin-wit>=1.6.0 in /usr/local/lib/python3.6/dist-packages (from tensorboard<2.3.0,>=2.2.0->tensorflow-gpu) (1.6.0.post3)\n",
      "Requirement already satisfied: google-auth<2,>=1.6.3 in /usr/local/lib/python3.6/dist-packages (from tensorboard<2.3.0,>=2.2.0->tensorflow-gpu) (1.7.2)\n",
      "Requirement already satisfied: setuptools>=41.0.0 in /usr/local/lib/python3.6/dist-packages (from tensorboard<2.3.0,>=2.2.0->tensorflow-gpu) (46.1.3)\n",
      "Requirement already satisfied: requests<3,>=2.21.0 in /usr/local/lib/python3.6/dist-packages (from tensorboard<2.3.0,>=2.2.0->tensorflow-gpu) (2.23.0)\n",
      "Requirement already satisfied: requests-oauthlib>=0.7.0 in /usr/local/lib/python3.6/dist-packages (from google-auth-oauthlib<0.5,>=0.4.1->tensorboard<2.3.0,>=2.2.0->tensorflow-gpu) (1.3.0)\n",
      "Requirement already satisfied: rsa<4.1,>=3.1.4 in /usr/local/lib/python3.6/dist-packages (from google-auth<2,>=1.6.3->tensorboard<2.3.0,>=2.2.0->tensorflow-gpu) (4.0)\n",
      "Requirement already satisfied: cachetools<3.2,>=2.0.0 in /usr/local/lib/python3.6/dist-packages (from google-auth<2,>=1.6.3->tensorboard<2.3.0,>=2.2.0->tensorflow-gpu) (3.1.1)\n",
      "Requirement already satisfied: pyasn1-modules>=0.2.1 in /usr/local/lib/python3.6/dist-packages (from google-auth<2,>=1.6.3->tensorboard<2.3.0,>=2.2.0->tensorflow-gpu) (0.2.8)\n",
      "Requirement already satisfied: idna<3,>=2.5 in /usr/local/lib/python3.6/dist-packages (from requests<3,>=2.21.0->tensorboard<2.3.0,>=2.2.0->tensorflow-gpu) (2.9)\n",
      "Requirement already satisfied: certifi>=2017.4.17 in /usr/local/lib/python3.6/dist-packages (from requests<3,>=2.21.0->tensorboard<2.3.0,>=2.2.0->tensorflow-gpu) (2020.4.5.1)\n",
      "Requirement already satisfied: urllib3!=1.25.0,!=1.25.1,<1.26,>=1.21.1 in /usr/local/lib/python3.6/dist-packages (from requests<3,>=2.21.0->tensorboard<2.3.0,>=2.2.0->tensorflow-gpu) (1.24.3)\n",
      "Requirement already satisfied: chardet<4,>=3.0.2 in /usr/local/lib/python3.6/dist-packages (from requests<3,>=2.21.0->tensorboard<2.3.0,>=2.2.0->tensorflow-gpu) (3.0.4)\n",
      "Requirement already satisfied: oauthlib>=3.0.0 in /usr/local/lib/python3.6/dist-packages (from requests-oauthlib>=0.7.0->google-auth-oauthlib<0.5,>=0.4.1->tensorboard<2.3.0,>=2.2.0->tensorflow-gpu) (3.1.0)\n",
      "Requirement already satisfied: pyasn1>=0.1.3 in /usr/local/lib/python3.6/dist-packages (from rsa<4.1,>=3.1.4->google-auth<2,>=1.6.3->tensorboard<2.3.0,>=2.2.0->tensorflow-gpu) (0.4.8)\n",
      "Installing collected packages: tensorflow-gpu\n",
      "Successfully installed tensorflow-gpu-2.2.0\n"
     ]
    }
   ],
   "source": [
    "!pip install tensorflow-gpu"
   ]
  },
  {
   "cell_type": "code",
   "execution_count": 0,
   "metadata": {
    "colab": {},
    "colab_type": "code",
    "id": "KXO2ulLIqhOu"
   },
   "outputs": [],
   "source": [
    "import tensorflow as tf\n",
    "from tensorflow import keras\n",
    "from tensorflow.keras import Sequential\n",
    "from tensorflow.keras.layers import Flatten, Dense, MaxPool2D, Conv2D, Dropout, BatchNormalization, ZeroPadding2D\n",
    "from tensorflow.keras.preprocessing.image import ImageDataGenerator\n",
    "from tensorflow.keras.optimizers import SGD"
   ]
  },
  {
   "cell_type": "code",
   "execution_count": 0,
   "metadata": {
    "colab": {},
    "colab_type": "code",
    "id": "7jMS_pPDrpKt"
   },
   "outputs": [],
   "source": [
    "import numpy as np\n",
    "import pandas as pd\n",
    "import matplotlib.pyplot as plt"
   ]
  },
  {
   "cell_type": "code",
   "execution_count": 4,
   "metadata": {
    "colab": {
     "base_uri": "https://localhost:8080/",
     "height": 119
    },
    "colab_type": "code",
    "id": "G7zWvUo5ryvZ",
    "outputId": "fdaa19f5-1195-4a42-99b9-5571dfdd7469"
   },
   "outputs": [
    {
     "name": "stdout",
     "output_type": "stream",
     "text": [
      "Cloning into 'dog-cat-full-dataset'...\n",
      "remote: Enumerating objects: 25027, done.\u001b[K\n",
      "remote: Total 25027 (delta 0), reused 0 (delta 0), pack-reused 25027\u001b[K\n",
      "Receiving objects: 100% (25027/25027), 541.62 MiB | 35.56 MiB/s, done.\n",
      "Resolving deltas: 100% (5/5), done.\n",
      "Checking out files: 100% (25001/25001), done.\n"
     ]
    }
   ],
   "source": [
    "!git clone https://github.com/laxmimerit/dog-cat-full-dataset.git"
   ]
  },
  {
   "cell_type": "code",
   "execution_count": 0,
   "metadata": {
    "colab": {},
    "colab_type": "code",
    "id": "cmnO5YcbsxHI"
   },
   "outputs": [],
   "source": [
    "train_data_dir='/content/dog-cat-full-dataset/data/train'\n",
    "test_data_dir='/content/dog-cat-full-dataset/data/test'"
   ]
  },
  {
   "cell_type": "code",
   "execution_count": 0,
   "metadata": {
    "colab": {},
    "colab_type": "code",
    "id": "WdbHSPsSvFsW"
   },
   "outputs": [],
   "source": [
    "img_width=32\n",
    "img_height=32\n",
    "batch_size=20"
   ]
  },
  {
   "cell_type": "code",
   "execution_count": 0,
   "metadata": {
    "colab": {},
    "colab_type": "code",
    "id": "flu99soXvNkN"
   },
   "outputs": [],
   "source": [
    "datagen=ImageDataGenerator(rescale=1./255)"
   ]
  },
  {
   "cell_type": "code",
   "execution_count": 8,
   "metadata": {
    "colab": {
     "base_uri": "https://localhost:8080/",
     "height": 34
    },
    "colab_type": "code",
    "id": "8Pw4a-VuvZCp",
    "outputId": "3a70c43f-811b-4e11-c82d-418409d3da93"
   },
   "outputs": [
    {
     "name": "stdout",
     "output_type": "stream",
     "text": [
      "Found 20000 images belonging to 2 classes.\n"
     ]
    }
   ],
   "source": [
    "train_generator=datagen.flow_from_directory(directory=train_data_dir,target_size=(32,32),classes=['dogs','cats'],\n",
    "                                            class_mode='binary',batch_size=batch_size)"
   ]
  },
  {
   "cell_type": "code",
   "execution_count": 9,
   "metadata": {
    "colab": {
     "base_uri": "https://localhost:8080/",
     "height": 34
    },
    "colab_type": "code",
    "id": "Vcz26cLOv5EG",
    "outputId": "fb5b8f90-aa90-4120-9387-b20ab32dad3c"
   },
   "outputs": [
    {
     "data": {
      "text/plain": [
       "array([0, 0, 0, ..., 1, 1, 1], dtype=int32)"
      ]
     },
     "execution_count": 9,
     "metadata": {
      "tags": []
     },
     "output_type": "execute_result"
    }
   ],
   "source": [
    "train_generator.classes"
   ]
  },
  {
   "cell_type": "code",
   "execution_count": 11,
   "metadata": {
    "colab": {
     "base_uri": "https://localhost:8080/",
     "height": 34
    },
    "colab_type": "code",
    "id": "RGfLCguJwBEu",
    "outputId": "33d6965b-d50d-48bb-fe43-e32d1a7ee11b"
   },
   "outputs": [
    {
     "name": "stdout",
     "output_type": "stream",
     "text": [
      "Found 5000 images belonging to 2 classes.\n"
     ]
    }
   ],
   "source": [
    "test_generator=datagen.flow_from_directory(directory=test_data_dir,target_size=(32,32),classes=['dogs','cats'],\n",
    "                                           class_mode='binary',batch_size=batch_size)"
   ]
  },
  {
   "cell_type": "code",
   "execution_count": 12,
   "metadata": {
    "colab": {
     "base_uri": "https://localhost:8080/",
     "height": 34
    },
    "colab_type": "code",
    "id": "Xuoc7qJKxDem",
    "outputId": "2650b7ca-a3fa-49a8-a2c3-2da7cca55144"
   },
   "outputs": [
    {
     "data": {
      "text/plain": [
       "1000"
      ]
     },
     "execution_count": 12,
     "metadata": {
      "tags": []
     },
     "output_type": "execute_result"
    }
   ],
   "source": [
    "len(train_generator)"
   ]
  },
  {
   "cell_type": "markdown",
   "metadata": {
    "colab_type": "text",
    "id": "8zNwZfUqxeS7"
   },
   "source": [
    "## Build CNN Base Model"
   ]
  },
  {
   "cell_type": "code",
   "execution_count": 0,
   "metadata": {
    "colab": {},
    "colab_type": "code",
    "id": "g4L8La_xxjPB"
   },
   "outputs": [],
   "source": [
    "model=Sequential()\n",
    "model.add(Conv2D(filters=64,kernel_size=(3,3),activation='relu',padding='same',kernel_initializer='he_uniform',input_shape=(img_width,img_height,3)))\n",
    "model.add(MaxPool2D(pool_size=(2,2),strides=2,padding='valid'))\n",
    "\n",
    "model.add(Flatten())\n",
    "model.add(Dense(units=128,activation='relu',kernel_initializer='he_uniform'))\n",
    "model.add(Dense(units=1,activation='sigmoid'))"
   ]
  },
  {
   "cell_type": "code",
   "execution_count": 14,
   "metadata": {
    "colab": {
     "base_uri": "https://localhost:8080/",
     "height": 323
    },
    "colab_type": "code",
    "id": "3HRebWIh0U7A",
    "outputId": "fc254a15-4247-4dbe-d5ff-fcb8f8c3219e"
   },
   "outputs": [
    {
     "name": "stdout",
     "output_type": "stream",
     "text": [
      "Model: \"sequential\"\n",
      "_________________________________________________________________\n",
      "Layer (type)                 Output Shape              Param #   \n",
      "=================================================================\n",
      "conv2d (Conv2D)              (None, 32, 32, 64)        1792      \n",
      "_________________________________________________________________\n",
      "max_pooling2d (MaxPooling2D) (None, 16, 16, 64)        0         \n",
      "_________________________________________________________________\n",
      "flatten (Flatten)            (None, 16384)             0         \n",
      "_________________________________________________________________\n",
      "dense (Dense)                (None, 128)               2097280   \n",
      "_________________________________________________________________\n",
      "dense_1 (Dense)              (None, 1)                 129       \n",
      "=================================================================\n",
      "Total params: 2,099,201\n",
      "Trainable params: 2,099,201\n",
      "Non-trainable params: 0\n",
      "_________________________________________________________________\n"
     ]
    }
   ],
   "source": [
    "model.summary()"
   ]
  },
  {
   "cell_type": "code",
   "execution_count": 0,
   "metadata": {
    "colab": {},
    "colab_type": "code",
    "id": "ymw96G1y0aB6"
   },
   "outputs": [],
   "source": [
    "opt=SGD(learning_rate=0.01,momentum=0.9)\n",
    "model.compile(optimizer=opt,loss='binary_crossentropy',metrics=['accuracy'])"
   ]
  },
  {
   "cell_type": "code",
   "execution_count": 17,
   "metadata": {
    "colab": {
     "base_uri": "https://localhost:8080/",
     "height": 207
    },
    "colab_type": "code",
    "id": "nybKdklJ1Nx-",
    "outputId": "43f8302c-8cfe-4b31-c22a-164cb66a080d"
   },
   "outputs": [
    {
     "name": "stdout",
     "output_type": "stream",
     "text": [
      "Epoch 1/5\n",
      "1000/1000 [==============================] - 100s 100ms/step - loss: 0.4254 - accuracy: 0.7992 - val_loss: 0.5334 - val_accuracy: 0.7362\n",
      "Epoch 2/5\n",
      "1000/1000 [==============================] - 99s 99ms/step - loss: 0.3747 - accuracy: 0.8324 - val_loss: 0.5350 - val_accuracy: 0.7466\n",
      "Epoch 3/5\n",
      "1000/1000 [==============================] - 102s 102ms/step - loss: 0.3273 - accuracy: 0.8574 - val_loss: 0.5786 - val_accuracy: 0.7500\n",
      "Epoch 4/5\n",
      "1000/1000 [==============================] - 102s 102ms/step - loss: 0.2651 - accuracy: 0.8886 - val_loss: 0.6429 - val_accuracy: 0.7368\n",
      "Epoch 5/5\n",
      "1000/1000 [==============================] - 104s 104ms/step - loss: 0.2183 - accuracy: 0.9078 - val_loss: 0.7284 - val_accuracy: 0.7380\n"
     ]
    }
   ],
   "source": [
    "history=model.fit_generator(generator=train_generator,steps_per_epoch=len(train_generator),epochs=5,\n",
    "                    validation_data=test_generator,validation_steps=len(test_generator),verbose=1)"
   ]
  },
  {
   "cell_type": "code",
   "execution_count": 18,
   "metadata": {
    "colab": {
     "base_uri": "https://localhost:8080/",
     "height": 357
    },
    "colab_type": "code",
    "id": "3pWsNdc63a_u",
    "outputId": "0034db36-bf0a-4adc-8966-afb6b4584208"
   },
   "outputs": [
    {
     "data": {
      "text/plain": [
       "{'accuracy': [0.7991999983787537,\n",
       "  0.8324000239372253,\n",
       "  0.8574000000953674,\n",
       "  0.8885999917984009,\n",
       "  0.907800018787384],\n",
       " 'loss': [0.4254075586795807,\n",
       "  0.374714732170105,\n",
       "  0.327332079410553,\n",
       "  0.26509585976600647,\n",
       "  0.21825261414051056],\n",
       " 'val_accuracy': [0.7361999750137329,\n",
       "  0.7465999722480774,\n",
       "  0.75,\n",
       "  0.7368000149726868,\n",
       "  0.7379999756813049],\n",
       " 'val_loss': [0.533354640007019,\n",
       "  0.5349594950675964,\n",
       "  0.5785642862319946,\n",
       "  0.6429215669631958,\n",
       "  0.7283563017845154]}"
      ]
     },
     "execution_count": 18,
     "metadata": {
      "tags": []
     },
     "output_type": "execute_result"
    }
   ],
   "source": [
    "history.history"
   ]
  },
  {
   "cell_type": "code",
   "execution_count": 20,
   "metadata": {
    "colab": {
     "base_uri": "https://localhost:8080/",
     "height": 573
    },
    "colab_type": "code",
    "id": "Ga8jfeSO-9ji",
    "outputId": "5ea8bdf0-fac1-47cd-b148-34c971d32544"
   },
   "outputs": [
    {
     "data": {
      "image/png": "[encoded data removed]",
      "text/plain": [
       "<Figure size 432x288 with 1 Axes>"
      ]
     },
     "metadata": {
      "needs_background": "light",
      "tags": []
     },
     "output_type": "display_data"
    },
    {
     "data": {
      "image/png": "[encoded data removed]",
      "text/plain": [
       "<Figure size 432x288 with 1 Axes>"
      ]
     },
     "metadata": {
      "needs_background": "light",
      "tags": []
     },
     "output_type": "display_data"
    }
   ],
   "source": [
    "epoch_range=range(1,6)\n",
    "plt.plot(epoch_range,history.history['accuracy'])\n",
    "plt.plot(epoch_range,history.history['val_accuracy'])\n",
    "plt.title('Model Accuracy')\n",
    "plt.xlabel('Epoch')\n",
    "plt.ylabel('Accuracy')\n",
    "plt.legend(['Train','Val'])\n",
    "plt.show()\n",
    "\n",
    "plt.plot(epoch_range,history.history['loss'])\n",
    "plt.plot(epoch_range,history.history['val_loss'])\n",
    "plt.title('Model Loss')\n",
    "plt.xlabel('Epoch')\n",
    "plt.ylabel('Loss')\n",
    "plt.legend(['Train','Val'])\n",
    "plt.show()"
   ]
  },
  {
   "cell_type": "markdown",
   "metadata": {
    "colab_type": "text",
    "id": "B6ONjDooAxvy"
   },
   "source": [
    "## 3 Blocks of VGG"
   ]
  },
  {
   "cell_type": "code",
   "execution_count": 0,
   "metadata": {
    "colab": {},
    "colab_type": "code",
    "id": "MZDfzVrnAYcJ"
   },
   "outputs": [],
   "source": [
    "model=Sequential()\n",
    "model.add(Conv2D(filters=64,kernel_size=(3,3),padding='same',input_shape=(img_width,img_height,3),\n",
    "                 activation='relu',kernel_initializer='he_uniform'))\n",
    "model.add(MaxPool2D(pool_size=(2,2),strides=2))\n",
    "\n",
    "model.add(Conv2D(filters=128,kernel_size=(3,3),padding='same',activation='relu',kernel_initializer='he_uniform'))\n",
    "model.add(MaxPool2D(pool_size=(2,2),strides=2))\n",
    "\n",
    "model.add(Conv2D(filters=256,kernel_size=(3,3),padding='same',activation='relu',kernel_initializer='he_uniform'))\n",
    "model.add(MaxPool2D(pool_size=(2,2),strides=2))\n",
    "\n",
    "model.add(Flatten())\n",
    "model.add(Dense(128,activation='relu',kernel_initializer='he_uniform'))\n",
    "model.add(Dense(1,activation='sigmoid'))"
   ]
  },
  {
   "cell_type": "code",
   "execution_count": 23,
   "metadata": {
    "colab": {
     "base_uri": "https://localhost:8080/",
     "height": 459
    },
    "colab_type": "code",
    "id": "-MJDWmw8C9g7",
    "outputId": "03eca4b6-1e60-45ab-ce27-957d9a3fc4fb"
   },
   "outputs": [
    {
     "name": "stdout",
     "output_type": "stream",
     "text": [
      "Model: \"sequential_2\"\n",
      "_________________________________________________________________\n",
      "Layer (type)                 Output Shape              Param #   \n",
      "=================================================================\n",
      "conv2d_4 (Conv2D)            (None, 32, 32, 64)        1792      \n",
      "_________________________________________________________________\n",
      "max_pooling2d_4 (MaxPooling2 (None, 16, 16, 64)        0         \n",
      "_________________________________________________________________\n",
      "conv2d_5 (Conv2D)            (None, 16, 16, 128)       73856     \n",
      "_________________________________________________________________\n",
      "max_pooling2d_5 (MaxPooling2 (None, 8, 8, 128)         0         \n",
      "_________________________________________________________________\n",
      "conv2d_6 (Conv2D)            (None, 8, 8, 256)         295168    \n",
      "_________________________________________________________________\n",
      "max_pooling2d_6 (MaxPooling2 (None, 4, 4, 256)         0         \n",
      "_________________________________________________________________\n",
      "flatten_2 (Flatten)          (None, 4096)              0         \n",
      "_________________________________________________________________\n",
      "dense_4 (Dense)              (None, 128)               524416    \n",
      "_________________________________________________________________\n",
      "dense_5 (Dense)              (None, 1)                 129       \n",
      "=================================================================\n",
      "Total params: 895,361\n",
      "Trainable params: 895,361\n",
      "Non-trainable params: 0\n",
      "_________________________________________________________________\n"
     ]
    }
   ],
   "source": [
    "model.summary()"
   ]
  },
  {
   "cell_type": "code",
   "execution_count": 0,
   "metadata": {
    "colab": {},
    "colab_type": "code",
    "id": "Q0rXvd4yDC0i"
   },
   "outputs": [],
   "source": [
    "opt=SGD(learning_rate=0.01,momentum=0.9)\n",
    "model.compile(optimizer=opt,loss='binary_crossentropy',metrics=['accuracy'])"
   ]
  },
  {
   "cell_type": "code",
   "execution_count": 27,
   "metadata": {
    "colab": {
     "base_uri": "https://localhost:8080/",
     "height": 207
    },
    "colab_type": "code",
    "id": "z6ITdQn0DfQs",
    "outputId": "0c173b23-b06b-4450-d7fb-915e6b54c882"
   },
   "outputs": [
    {
     "name": "stdout",
     "output_type": "stream",
     "text": [
      "Epoch 1/5\n",
      "1000/1000 [==============================] - 203s 203ms/step - loss: 0.3405 - accuracy: 0.8504 - val_loss: 0.4534 - val_accuracy: 0.7914\n",
      "Epoch 2/5\n",
      "1000/1000 [==============================] - 201s 201ms/step - loss: 0.2980 - accuracy: 0.8712 - val_loss: 0.4717 - val_accuracy: 0.7948\n",
      "Epoch 3/5\n",
      "1000/1000 [==============================] - 203s 203ms/step - loss: 0.2528 - accuracy: 0.8931 - val_loss: 0.4870 - val_accuracy: 0.7938\n",
      "Epoch 4/5\n",
      "1000/1000 [==============================] - 207s 207ms/step - loss: 0.2091 - accuracy: 0.9137 - val_loss: 0.5143 - val_accuracy: 0.7940\n",
      "Epoch 5/5\n",
      "1000/1000 [==============================] - 208s 208ms/step - loss: 0.1862 - accuracy: 0.9220 - val_loss: 0.6184 - val_accuracy: 0.7892\n"
     ]
    }
   ],
   "source": [
    "history=model.fit_generator(generator=train_generator,steps_per_epoch=len(train_generator),verbose=1,\n",
    "                    validation_data =test_generator,validation_steps=len(test_generator),epochs=5)"
   ]
  },
  {
   "cell_type": "code",
   "execution_count": 28,
   "metadata": {
    "colab": {
     "base_uri": "https://localhost:8080/",
     "height": 357
    },
    "colab_type": "code",
    "id": "Ljb9kUdfF3yc",
    "outputId": "81e67611-c7ee-435a-a124-91b00e4cdd2d"
   },
   "outputs": [
    {
     "data": {
      "text/plain": [
       "{'accuracy': [0.8504499793052673,\n",
       "  0.871150016784668,\n",
       "  0.8931499719619751,\n",
       "  0.9137499928474426,\n",
       "  0.921999990940094],\n",
       " 'loss': [0.34048959612846375,\n",
       "  0.29796817898750305,\n",
       "  0.2527891993522644,\n",
       "  0.20905844867229462,\n",
       "  0.18615466356277466],\n",
       " 'val_accuracy': [0.7914000153541565,\n",
       "  0.7947999835014343,\n",
       "  0.7937999963760376,\n",
       "  0.7940000295639038,\n",
       "  0.7892000079154968],\n",
       " 'val_loss': [0.4534417390823364,\n",
       "  0.4716930687427521,\n",
       "  0.4869616627693176,\n",
       "  0.5142925977706909,\n",
       "  0.6184132099151611]}"
      ]
     },
     "execution_count": 28,
     "metadata": {
      "tags": []
     },
     "output_type": "execute_result"
    }
   ],
   "source": [
    "history.history"
   ]
  },
  {
   "cell_type": "markdown",
   "metadata": {
    "colab_type": "text",
    "id": "-GD1B2q7RJia"
   },
   "source": [
    "## Dropout and Batch Normalization"
   ]
  },
  {
   "cell_type": "code",
   "execution_count": 0,
   "metadata": {
    "colab": {},
    "colab_type": "code",
    "id": "PCN7FXZAQHsz"
   },
   "outputs": [],
   "source": [
    "model=Sequential()\n",
    "model.add(Conv2D(filters=64,kernel_size=(3,3),padding='same',input_shape=(img_width,img_height,3),\n",
    "                 activation='relu',kernel_initializer='he_uniform'))\n",
    "model.add(BatchNormalization())\n",
    "model.add(MaxPool2D(pool_size=(2,2),strides=2))\n",
    "model.add(Dropout(0.2))\n",
    "\n",
    "model.add(Conv2D(filters=128,kernel_size=(3,3),padding='same',activation='relu',kernel_initializer='he_uniform'))\n",
    "model.add(BatchNormalization())\n",
    "model.add(MaxPool2D(pool_size=(2,2),strides=2))\n",
    "model.add(Dropout(0.3))\n",
    "\n",
    "model.add(Conv2D(filters=256,kernel_size=(3,3),padding='same',activation='relu',kernel_initializer='he_uniform'))\n",
    "model.add(BatchNormalization())\n",
    "model.add(MaxPool2D(pool_size=(2,2),strides=2))\n",
    "model.add(Dropout(0.5))\n",
    "\n",
    "model.add(Flatten())\n",
    "\n",
    "model.add(Dense(128,activation='relu',kernel_initializer='he_uniform'))\n",
    "model.add(BatchNormalization())\n",
    "model.add(Dropout(0.5))\n",
    "\n",
    "model.add(Dense(1,activation='sigmoid'))"
   ]
  },
  {
   "cell_type": "code",
   "execution_count": 30,
   "metadata": {
    "colab": {
     "base_uri": "https://localhost:8080/",
     "height": 731
    },
    "colab_type": "code",
    "id": "J5Zu32nwRS-8",
    "outputId": "a3a062f9-d2aa-4c71-f7f2-c52e3335ea78"
   },
   "outputs": [
    {
     "name": "stdout",
     "output_type": "stream",
     "text": [
      "Model: \"sequential_3\"\n",
      "_________________________________________________________________\n",
      "Layer (type)                 Output Shape              Param #   \n",
      "=================================================================\n",
      "conv2d_7 (Conv2D)            (None, 32, 32, 64)        1792      \n",
      "_________________________________________________________________\n",
      "batch_normalization (BatchNo (None, 32, 32, 64)        256       \n",
      "_________________________________________________________________\n",
      "max_pooling2d_7 (MaxPooling2 (None, 16, 16, 64)        0         \n",
      "_________________________________________________________________\n",
      "dropout (Dropout)            (None, 16, 16, 64)        0         \n",
      "_________________________________________________________________\n",
      "conv2d_8 (Conv2D)            (None, 16, 16, 128)       73856     \n",
      "_________________________________________________________________\n",
      "batch_normalization_1 (Batch (None, 16, 16, 128)       512       \n",
      "_________________________________________________________________\n",
      "max_pooling2d_8 (MaxPooling2 (None, 8, 8, 128)         0         \n",
      "_________________________________________________________________\n",
      "dropout_1 (Dropout)          (None, 8, 8, 128)         0         \n",
      "_________________________________________________________________\n",
      "conv2d_9 (Conv2D)            (None, 8, 8, 256)         295168    \n",
      "_________________________________________________________________\n",
      "batch_normalization_2 (Batch (None, 8, 8, 256)         1024      \n",
      "_________________________________________________________________\n",
      "max_pooling2d_9 (MaxPooling2 (None, 4, 4, 256)         0         \n",
      "_________________________________________________________________\n",
      "dropout_2 (Dropout)          (None, 4, 4, 256)         0         \n",
      "_________________________________________________________________\n",
      "flatten_3 (Flatten)          (None, 4096)              0         \n",
      "_________________________________________________________________\n",
      "dense_6 (Dense)              (None, 128)               524416    \n",
      "_________________________________________________________________\n",
      "batch_normalization_3 (Batch (None, 128)               512       \n",
      "_________________________________________________________________\n",
      "dropout_3 (Dropout)          (None, 128)               0         \n",
      "_________________________________________________________________\n",
      "dense_7 (Dense)              (None, 1)                 129       \n",
      "=================================================================\n",
      "Total params: 897,665\n",
      "Trainable params: 896,513\n",
      "Non-trainable params: 1,152\n",
      "_________________________________________________________________\n"
     ]
    }
   ],
   "source": [
    "model.summary()"
   ]
  },
  {
   "cell_type": "code",
   "execution_count": 0,
   "metadata": {
    "colab": {},
    "colab_type": "code",
    "id": "t9uB5EgpRTIA"
   },
   "outputs": [],
   "source": [
    "opt=SGD(learning_rate=0.01,momentum=0.9)\n",
    "model.compile(optimizer=opt,loss='binary_crossentropy',metrics=['accuracy'])"
   ]
  },
  {
   "cell_type": "code",
   "execution_count": 32,
   "metadata": {
    "colab": {
     "base_uri": "https://localhost:8080/",
     "height": 377
    },
    "colab_type": "code",
    "id": "wuSKpnjzRTvo",
    "outputId": "21c54afc-ea8c-4622-f520-467da97edd61"
   },
   "outputs": [
    {
     "name": "stdout",
     "output_type": "stream",
     "text": [
      "Epoch 1/10\n",
      "1000/1000 [==============================] - 230s 230ms/step - loss: 0.6754 - accuracy: 0.6296 - val_loss: 0.6230 - val_accuracy: 0.6598\n",
      "Epoch 2/10\n",
      "1000/1000 [==============================] - 232s 232ms/step - loss: 0.6094 - accuracy: 0.6810 - val_loss: 0.6613 - val_accuracy: 0.6342\n",
      "Epoch 3/10\n",
      "1000/1000 [==============================] - 230s 230ms/step - loss: 0.5617 - accuracy: 0.7135 - val_loss: 0.7212 - val_accuracy: 0.5758\n",
      "Epoch 4/10\n",
      "1000/1000 [==============================] - 232s 232ms/step - loss: 0.5312 - accuracy: 0.7342 - val_loss: 0.5277 - val_accuracy: 0.7490\n",
      "Epoch 5/10\n",
      "1000/1000 [==============================] - 233s 233ms/step - loss: 0.5041 - accuracy: 0.7560 - val_loss: 0.5106 - val_accuracy: 0.7420\n",
      "Epoch 6/10\n",
      "1000/1000 [==============================] - 237s 237ms/step - loss: 0.4860 - accuracy: 0.7642 - val_loss: 0.4999 - val_accuracy: 0.7502\n",
      "Epoch 7/10\n",
      "1000/1000 [==============================] - 235s 235ms/step - loss: 0.4682 - accuracy: 0.7805 - val_loss: 0.5290 - val_accuracy: 0.7540\n",
      "Epoch 8/10\n",
      "1000/1000 [==============================] - 234s 234ms/step - loss: 0.4499 - accuracy: 0.7879 - val_loss: 0.4628 - val_accuracy: 0.7878\n",
      "Epoch 9/10\n",
      "1000/1000 [==============================] - 233s 233ms/step - loss: 0.4390 - accuracy: 0.7951 - val_loss: 0.4155 - val_accuracy: 0.8062\n",
      "Epoch 10/10\n",
      "1000/1000 [==============================] - 233s 233ms/step - loss: 0.4296 - accuracy: 0.8056 - val_loss: 0.4044 - val_accuracy: 0.8126\n"
     ]
    }
   ],
   "source": [
    "history=model.fit_generator(generator=train_generator,steps_per_epoch=len(train_generator),verbose=1,\n",
    "                    validation_data =test_generator,validation_steps=len(test_generator),epochs=10)"
   ]
  },
  {
   "cell_type": "code",
   "execution_count": 33,
   "metadata": {
    "colab": {
     "base_uri": "https://localhost:8080/",
     "height": 697
    },
    "colab_type": "code",
    "id": "wrVtV2IkTTMT",
    "outputId": "17c230e0-b46d-41f0-ccb7-bfa235a30ee9"
   },
   "outputs": [
    {
     "data": {
      "text/plain": [
       "{'accuracy': [0.6296499967575073,\n",
       "  0.6809999942779541,\n",
       "  0.7135499715805054,\n",
       "  0.7342000007629395,\n",
       "  0.7559999823570251,\n",
       "  0.7641500234603882,\n",
       "  0.7804999947547913,\n",
       "  0.7878999710083008,\n",
       "  0.7951499819755554,\n",
       "  0.8055999875068665],\n",
       " 'loss': [0.6754257678985596,\n",
       "  0.60938960313797,\n",
       "  0.5617145895957947,\n",
       "  0.5311693549156189,\n",
       "  0.5041406750679016,\n",
       "  0.48598432540893555,\n",
       "  0.46824145317077637,\n",
       "  0.44991815090179443,\n",
       "  0.43898773193359375,\n",
       "  0.42961665987968445],\n",
       " 'val_accuracy': [0.6597999930381775,\n",
       "  0.6341999769210815,\n",
       "  0.5758000016212463,\n",
       "  0.7490000128746033,\n",
       "  0.7419999837875366,\n",
       "  0.7501999735832214,\n",
       "  0.7540000081062317,\n",
       "  0.7878000140190125,\n",
       "  0.8062000274658203,\n",
       "  0.8126000165939331],\n",
       " 'val_loss': [0.6230219006538391,\n",
       "  0.6613117456436157,\n",
       "  0.721244215965271,\n",
       "  0.5276873707771301,\n",
       "  0.5105940103530884,\n",
       "  0.49987733364105225,\n",
       "  0.5289745330810547,\n",
       "  0.4628019630908966,\n",
       "  0.41553160548210144,\n",
       "  0.4044341444969177]}"
      ]
     },
     "execution_count": 33,
     "metadata": {
      "tags": []
     },
     "output_type": "execute_result"
    }
   ],
   "source": [
    "history.history"
   ]
  },
  {
   "cell_type": "code",
   "execution_count": 34,
   "metadata": {
    "colab": {
     "base_uri": "https://localhost:8080/",
     "height": 573
    },
    "colab_type": "code",
    "id": "BQ8veYDQTYHt",
    "outputId": "e71a7c6c-5ec7-4897-d1ba-81812c462dac"
   },
   "outputs": [
    {
     "data": {
      "image/png": "[encoded data removed]",
      "text/plain": [
       "<Figure size 432x288 with 1 Axes>"
      ]
     },
     "metadata": {
      "needs_background": "light",
      "tags": []
     },
     "output_type": "display_data"
    },
    {
     "data": {
      "image/png": "[encoded data removed]",
      "text/plain": [
       "<Figure size 432x288 with 1 Axes>"
      ]
     },
     "metadata": {
      "needs_background": "light",
      "tags": []
     },
     "output_type": "display_data"
    }
   ],
   "source": [
    "epoch_range=range(1,11)\n",
    "plt.plot(epoch_range,history.history['accuracy'])\n",
    "plt.plot(epoch_range,history.history['val_accuracy'])\n",
    "plt.xlabel('Epoch')\n",
    "plt.ylabel('Accuracy')\n",
    "plt.title('Model Accuracy')\n",
    "plt.legend(['Train','Val'])\n",
    "plt.show()\n",
    "\n",
    "plt.plot(epoch_range,history.history['loss'])\n",
    "plt.plot(epoch_range,history.history['val_loss'])\n",
    "plt.xlabel('Epoch')\n",
    "plt.ylabel('Loss')\n",
    "plt.title('Model Loss')\n",
    "plt.legend(['Train','Val'])\n",
    "plt.show()"
   ]
  }
 ],
 "metadata": {
  "colab": {
   "name": "CNN 2D Dog vs Cat.ipynb",
   "provenance": []
  },
  "kernelspec": {
   "display_name": "Python 3",
   "language": "python",
   "name": "python3"
  },
  "language_info": {
   "codemirror_mode": {
    "name": "ipython",
    "version": 3
   },
   "file_extension": ".py",
   "mimetype": "text/x-python",
   "name": "python",
   "nbconvert_exporter": "python",
   "pygments_lexer": "ipython3",
   "version": "3.7.4"
  }
 },
 "nbformat": 4,
 "nbformat_minor": 1
}
